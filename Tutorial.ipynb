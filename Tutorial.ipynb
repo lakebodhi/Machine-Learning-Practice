{
 "cells": [
  {
   "cell_type": "code",
   "execution_count": 2,
   "metadata": {
    "collapsed": true
   },
   "outputs": [],
   "source": [
    "import os\n",
    "import pandas as pd\n",
    "from PIL import Image\n",
    "import numpy as np\n",
    "import sklearn"
   ]
  },
  {
   "cell_type": "code",
   "execution_count": 6,
   "metadata": {
    "collapsed": true
   },
   "outputs": [],
   "source": [
    "df_train = pd.read_csv('/Users/yangzhang/Documents/文稿 - YangZhang的MacBook Pro/Data Science/Machine Learning/sansan-001/train.csv')"
   ]
  },
  {
   "cell_type": "code",
   "execution_count": 7,
   "metadata": {},
   "outputs": [
    {
     "data": {
      "text/html": [
       "<div>\n",
       "<table border=\"1\" class=\"dataframe\">\n",
       "  <thead>\n",
       "    <tr style=\"text-align: right;\">\n",
       "      <th></th>\n",
       "      <th>filename</th>\n",
       "      <th>left</th>\n",
       "      <th>top</th>\n",
       "      <th>right</th>\n",
       "      <th>bottom</th>\n",
       "      <th>company_name</th>\n",
       "      <th>full_name</th>\n",
       "      <th>position_name</th>\n",
       "      <th>address</th>\n",
       "      <th>phone_number</th>\n",
       "      <th>fax</th>\n",
       "      <th>mobile</th>\n",
       "      <th>email</th>\n",
       "      <th>url</th>\n",
       "    </tr>\n",
       "  </thead>\n",
       "  <tbody>\n",
       "    <tr>\n",
       "      <th>0</th>\n",
       "      <td>2842.png</td>\n",
       "      <td>491</td>\n",
       "      <td>455</td>\n",
       "      <td>796</td>\n",
       "      <td>485</td>\n",
       "      <td>0</td>\n",
       "      <td>0</td>\n",
       "      <td>0</td>\n",
       "      <td>0</td>\n",
       "      <td>0</td>\n",
       "      <td>0</td>\n",
       "      <td>1</td>\n",
       "      <td>0</td>\n",
       "      <td>0</td>\n",
       "    </tr>\n",
       "    <tr>\n",
       "      <th>1</th>\n",
       "      <td>182.png</td>\n",
       "      <td>24</td>\n",
       "      <td>858</td>\n",
       "      <td>311</td>\n",
       "      <td>886</td>\n",
       "      <td>0</td>\n",
       "      <td>0</td>\n",
       "      <td>0</td>\n",
       "      <td>0</td>\n",
       "      <td>0</td>\n",
       "      <td>0</td>\n",
       "      <td>1</td>\n",
       "      <td>0</td>\n",
       "      <td>0</td>\n",
       "    </tr>\n",
       "    <tr>\n",
       "      <th>2</th>\n",
       "      <td>95.png</td>\n",
       "      <td>320</td>\n",
       "      <td>498</td>\n",
       "      <td>865</td>\n",
       "      <td>521</td>\n",
       "      <td>0</td>\n",
       "      <td>0</td>\n",
       "      <td>0</td>\n",
       "      <td>0</td>\n",
       "      <td>0</td>\n",
       "      <td>1</td>\n",
       "      <td>1</td>\n",
       "      <td>0</td>\n",
       "      <td>0</td>\n",
       "    </tr>\n",
       "    <tr>\n",
       "      <th>3</th>\n",
       "      <td>2491.png</td>\n",
       "      <td>65</td>\n",
       "      <td>39</td>\n",
       "      <td>497</td>\n",
       "      <td>118</td>\n",
       "      <td>1</td>\n",
       "      <td>0</td>\n",
       "      <td>0</td>\n",
       "      <td>0</td>\n",
       "      <td>0</td>\n",
       "      <td>0</td>\n",
       "      <td>0</td>\n",
       "      <td>0</td>\n",
       "      <td>0</td>\n",
       "    </tr>\n",
       "    <tr>\n",
       "      <th>4</th>\n",
       "      <td>3301.png</td>\n",
       "      <td>271</td>\n",
       "      <td>83</td>\n",
       "      <td>333</td>\n",
       "      <td>463</td>\n",
       "      <td>0</td>\n",
       "      <td>1</td>\n",
       "      <td>1</td>\n",
       "      <td>0</td>\n",
       "      <td>0</td>\n",
       "      <td>0</td>\n",
       "      <td>0</td>\n",
       "      <td>0</td>\n",
       "      <td>0</td>\n",
       "    </tr>\n",
       "  </tbody>\n",
       "</table>\n",
       "</div>"
      ],
      "text/plain": [
       "   filename  left  top  right  bottom  company_name  full_name  position_name  \\\n",
       "0  2842.png   491  455    796     485             0          0              0   \n",
       "1   182.png    24  858    311     886             0          0              0   \n",
       "2    95.png   320  498    865     521             0          0              0   \n",
       "3  2491.png    65   39    497     118             1          0              0   \n",
       "4  3301.png   271   83    333     463             0          1              1   \n",
       "\n",
       "   address  phone_number  fax  mobile  email  url  \n",
       "0        0             0    0       1      0    0  \n",
       "1        0             0    0       1      0    0  \n",
       "2        0             0    1       1      0    0  \n",
       "3        0             0    0       0      0    0  \n",
       "4        0             0    0       0      0    0  "
      ]
     },
     "execution_count": 7,
     "metadata": {},
     "output_type": "execute_result"
    }
   ],
   "source": [
    "df_train.head()"
   ]
  },
  {
   "cell_type": "code",
   "execution_count": 8,
   "metadata": {},
   "outputs": [
    {
     "data": {
      "text/plain": [
       "(25357, 14)"
      ]
     },
     "execution_count": 8,
     "metadata": {},
     "output_type": "execute_result"
    }
   ],
   "source": [
    "df_train.shape"
   ]
  },
  {
   "cell_type": "code",
   "execution_count": 9,
   "metadata": {
    "scrolled": true
   },
   "outputs": [
    {
     "data": {
      "text/plain": [
       "filename         2842.png\n",
       "left                  491\n",
       "top                   455\n",
       "right                 796\n",
       "bottom                485\n",
       "company_name            0\n",
       "full_name               0\n",
       "position_name           0\n",
       "address                 0\n",
       "phone_number            0\n",
       "fax                     0\n",
       "mobile                  1\n",
       "email                   0\n",
       "url                     0\n",
       "Name: 0, dtype: object"
      ]
     },
     "execution_count": 9,
     "metadata": {},
     "output_type": "execute_result"
    }
   ],
   "source": [
    "row = df_train.iloc[0,:]\n",
    "row"
   ]
  },
  {
   "cell_type": "code",
   "execution_count": 20,
   "metadata": {},
   "outputs": [
    {
     "data": {
      "image/png": "[encoded data removed]",
      "text/plain": [
       "<PIL.Image.Image image mode=RGBA size=305x30 at 0x111E715C0>"
      ]
     },
     "execution_count": 20,
     "metadata": {},
     "output_type": "execute_result"
    }
   ],
   "source": [
    "DIR_IMAGES = '/Users/yangzhang/Documents/文稿 - YangZhang的MacBook Pro/Data Science/Machine Learning/sansan-001/images'\n",
    "img = Image.open(os.path.join(DIR_IMAGES, row.filename))\n",
    "img = img.crop((row.left, row.top, row.right, row.bottom))\n",
    "img"
   ]
  },
  {
   "cell_type": "code",
   "execution_count": 21,
   "metadata": {
    "collapsed": true
   },
   "outputs": [],
   "source": [
    "df_test = pd.read_csv('/Users/yangzhang/Documents/文稿 - YangZhang的MacBook Pro/Data Science/Machine Learning/sansan-001/test.csv')"
   ]
  },
  {
   "cell_type": "code",
   "execution_count": 22,
   "metadata": {},
   "outputs": [
    {
     "data": {
      "text/html": [
       "<div>\n",
       "<table border=\"1\" class=\"dataframe\">\n",
       "  <thead>\n",
       "    <tr style=\"text-align: right;\">\n",
       "      <th></th>\n",
       "      <th>filename</th>\n",
       "      <th>left</th>\n",
       "      <th>top</th>\n",
       "      <th>right</th>\n",
       "      <th>bottom</th>\n",
       "    </tr>\n",
       "  </thead>\n",
       "  <tbody>\n",
       "    <tr>\n",
       "      <th>0</th>\n",
       "      <td>1942.png</td>\n",
       "      <td>66</td>\n",
       "      <td>359</td>\n",
       "      <td>361</td>\n",
       "      <td>386</td>\n",
       "    </tr>\n",
       "    <tr>\n",
       "      <th>1</th>\n",
       "      <td>1128.png</td>\n",
       "      <td>58</td>\n",
       "      <td>373</td>\n",
       "      <td>519</td>\n",
       "      <td>422</td>\n",
       "    </tr>\n",
       "    <tr>\n",
       "      <th>2</th>\n",
       "      <td>2719.png</td>\n",
       "      <td>62</td>\n",
       "      <td>289</td>\n",
       "      <td>297</td>\n",
       "      <td>314</td>\n",
       "    </tr>\n",
       "    <tr>\n",
       "      <th>3</th>\n",
       "      <td>641.png</td>\n",
       "      <td>58</td>\n",
       "      <td>668</td>\n",
       "      <td>416</td>\n",
       "      <td>747</td>\n",
       "    </tr>\n",
       "    <tr>\n",
       "      <th>4</th>\n",
       "      <td>2529.png</td>\n",
       "      <td>42</td>\n",
       "      <td>212</td>\n",
       "      <td>303</td>\n",
       "      <td>244</td>\n",
       "    </tr>\n",
       "  </tbody>\n",
       "</table>\n",
       "</div>"
      ],
      "text/plain": [
       "   filename  left  top  right  bottom\n",
       "0  1942.png    66  359    361     386\n",
       "1  1128.png    58  373    519     422\n",
       "2  2719.png    62  289    297     314\n",
       "3   641.png    58  668    416     747\n",
       "4  2529.png    42  212    303     244"
      ]
     },
     "execution_count": 22,
     "metadata": {},
     "output_type": "execute_result"
    }
   ],
   "source": [
    "df_test.head()"
   ]
  },
  {
   "cell_type": "code",
   "execution_count": 23,
   "metadata": {},
   "outputs": [
    {
     "data": {
      "text/plain": [
       "(8918, 5)"
      ]
     },
     "execution_count": 23,
     "metadata": {},
     "output_type": "execute_result"
    }
   ],
   "source": [
    "df_test.shape\n"
   ]
  },
  {
   "cell_type": "code",
   "execution_count": 24,
   "metadata": {
    "collapsed": true
   },
   "outputs": [],
   "source": [
    "df_train=df_train.sample(500,random_state=0)\n",
    "df_test=df_test.sample(100,random_state=0)"
   ]
  },
  {
   "cell_type": "code",
   "execution_count": 25,
   "metadata": {
    "scrolled": true
   },
   "outputs": [
    {
     "data": {
      "image/png": "[encoded data removed]",
      "text/plain": [
       "<PIL.Image.Image image mode=RGBA size=305x30 at 0x111E715C0>"
      ]
     },
     "execution_count": 25,
     "metadata": {},
     "output_type": "execute_result"
    }
   ],
   "source": [
    "img"
   ]
  },
  {
   "cell_type": "code",
   "execution_count": 26,
   "metadata": {
    "collapsed": true
   },
   "outputs": [],
   "source": [
    "img = img.convert('L')"
   ]
  },
  {
   "cell_type": "code",
   "execution_count": 27,
   "metadata": {},
   "outputs": [
    {
     "data": {
      "image/png": "[encoded data removed]",
      "text/plain": [
       "<PIL.Image.Image image mode=L size=305x30 at 0x111E71470>"
      ]
     },
     "execution_count": 27,
     "metadata": {},
     "output_type": "execute_result"
    }
   ],
   "source": [
    "img"
   ]
  },
  {
   "cell_type": "code",
   "execution_count": 28,
   "metadata": {},
   "outputs": [
    {
     "data": {
      "image/png": "[encoded data removed]",
      "text/plain": [
       "<PIL.Image.Image image mode=L size=100x100 at 0x111E719B0>"
      ]
     },
     "execution_count": 28,
     "metadata": {},
     "output_type": "execute_result"
    }
   ],
   "source": [
    "IMG_SIZE = 100\n",
    "img = img.resize((IMG_SIZE,IMG_SIZE),resample = Image.BICUBIC)\n",
    "img"
   ]
  },
  {
   "cell_type": "code",
   "execution_count": 30,
   "metadata": {},
   "outputs": [
    {
     "data": {
      "image/png": "[encoded data removed]",
      "text/plain": [
       "<PIL.Image.Image image mode=L size=100x100 at 0x1117E6EF0>"
      ]
     },
     "execution_count": 30,
     "metadata": {},
     "output_type": "execute_result"
    }
   ],
   "source": [
    "IMG_SIZE = 100\n",
    "img = img.resize((IMG_SIZE, IMG_SIZE),resample = Image.BICUBIC)\n",
    "img"
   ]
  },
  {
   "cell_type": "code",
   "execution_count": 32,
   "metadata": {},
   "outputs": [
    {
     "data": {
      "text/plain": [
       "(100, 100)"
      ]
     },
     "execution_count": 32,
     "metadata": {},
     "output_type": "execute_result"
    }
   ],
   "source": [
    "x = np.asarray(img,dtype = np.float)\n",
    "x.shape"
   ]
  },
  {
   "cell_type": "code",
   "execution_count": 33,
   "metadata": {},
   "outputs": [
    {
     "data": {
      "text/plain": [
       "array([[ 204.,  203.,  203., ...,  222.,  223.,  223.],\n",
       "       [ 204.,  203.,  203., ...,  222.,  223.,  223.],\n",
       "       [ 204.,  203.,  203., ...,  222.,  223.,  223.],\n",
       "       ..., \n",
       "       [ 204.,  204.,  205., ...,  223.,  223.,  224.],\n",
       "       [ 204.,  204.,  205., ...,  223.,  223.,  224.],\n",
       "       [ 204.,  204.,  205., ...,  223.,  223.,  224.]])"
      ]
     },
     "execution_count": 33,
     "metadata": {},
     "output_type": "execute_result"
    }
   ],
   "source": [
    "x"
   ]
  },
  {
   "cell_type": "code",
   "execution_count": 34,
   "metadata": {},
   "outputs": [
    {
     "data": {
      "text/plain": [
       "array([ 204.,  203.,  203., ...,  223.,  223.,  224.])"
      ]
     },
     "execution_count": 34,
     "metadata": {},
     "output_type": "execute_result"
    }
   ],
   "source": [
    "x = x.flatten()\n",
    "x"
   ]
  },
  {
   "cell_type": "code",
   "execution_count": 36,
   "metadata": {
    "collapsed": true
   },
   "outputs": [],
   "source": [
    "X_train = []\n",
    "for i, row in df_train.iterrows():\n",
    "    img = Image.open(os.path.join(DIR_IMAGES, row.filename))\n",
    "    img = img.crop((row.left, row.top, row.right, row.bottom))\n",
    "    img = img.convert('L')\n",
    "    img = img.resize((IMG_SIZE,IMG_SIZE),resample = Image.BICUBIC)\n",
    "    \n",
    "    x = np.asarray(img,dtype = np.float)\n",
    "    x = x.flatten()\n",
    "    X_train.append(x)\n",
    "X_train = np.array(X_train)"
   ]
  },
  {
   "cell_type": "code",
   "execution_count": 37,
   "metadata": {
    "collapsed": true
   },
   "outputs": [],
   "source": [
    "X_test = []\n",
    "for i, row in df_test.iterrows():\n",
    "    img = Image.open(os.path.join(DIR_IMAGES, row.filename))\n",
    "    img = img.crop((row.left, row.top, row.right, row.bottom))\n",
    "    img = img.convert('L')\n",
    "    img = img.resize((IMG_SIZE,IMG_SIZE),resample=Image.BICUBIC)\n",
    "    \n",
    "    x = np.asarray(img, dtype=np.float)\n",
    "    x = x.flatten()\n",
    "    X_test.append(x)\n",
    "X_test = np.array(X_test)"
   ]
  },
  {
   "cell_type": "code",
   "execution_count": 39,
   "metadata": {
    "collapsed": true
   },
   "outputs": [],
   "source": [
    "columns = ['company_name','full_name','position_name','address','phone_number','fax','mobile','email','url']\n",
    "Y_train = df_train[columns].values"
   ]
  },
  {
   "cell_type": "code",
   "execution_count": 41,
   "metadata": {
    "collapsed": true
   },
   "outputs": [],
   "source": [
    "from sklearn.model_selection import train_test_split\n",
    "X_dev, X_val, Y_dev, Y_val = train_test_split(X_train,Y_train,train_size=0.8, random_state=0)\n"
   ]
  },
  {
   "cell_type": "code",
   "execution_count": 43,
   "metadata": {},
   "outputs": [
    {
     "name": "stdout",
     "output_type": "stream",
     "text": [
      "(400, 10000) (400, 9)\n",
      "(100, 10000) (100, 9)\n"
     ]
    }
   ],
   "source": [
    "print (X_dev.shape, Y_dev.shape)\n",
    "print (X_val.shape, Y_val.shape)"
   ]
  },
  {
   "cell_type": "code",
   "execution_count": 44,
   "metadata": {},
   "outputs": [
    {
     "data": {
      "text/plain": [
       "StandardScaler(copy=True, with_mean=True, with_std=True)"
      ]
     },
     "execution_count": 44,
     "metadata": {},
     "output_type": "execute_result"
    }
   ],
   "source": [
    "from sklearn.preprocessing import StandardScaler\n",
    "scaler = StandardScaler()\n",
    "scaler.fit(X_dev)"
   ]
  },
  {
   "cell_type": "code",
   "execution_count": 45,
   "metadata": {
    "collapsed": true
   },
   "outputs": [],
   "source": [
    "X_dev_scaled = scaler.transform(X_dev)"
   ]
  },
  {
   "cell_type": "code",
   "execution_count": 46,
   "metadata": {},
   "outputs": [
    {
     "data": {
      "text/plain": [
       "array([ -3.16413562e-17,  -3.16413562e-17,   3.14193116e-16, ...,\n",
       "        -1.51545443e-16,  -3.47777362e-16,   1.02695630e-17])"
      ]
     },
     "execution_count": 46,
     "metadata": {},
     "output_type": "execute_result"
    }
   ],
   "source": [
    "X_dev_scaled.mean(axis=0)"
   ]
  },
  {
   "cell_type": "code",
   "execution_count": 47,
   "metadata": {},
   "outputs": [
    {
     "data": {
      "text/plain": [
       "array([ 1.,  1.,  1., ...,  1.,  1.,  1.])"
      ]
     },
     "execution_count": 47,
     "metadata": {},
     "output_type": "execute_result"
    }
   ],
   "source": [
    "X_dev_scaled.var(axis=0)"
   ]
  },
  {
   "cell_type": "code",
   "execution_count": 48,
   "metadata": {},
   "outputs": [
    {
     "data": {
      "text/plain": [
       "PCA(copy=True, iterated_power='auto', n_components=10, random_state=0,\n",
       "  svd_solver='auto', tol=0.0, whiten=False)"
      ]
     },
     "execution_count": 48,
     "metadata": {},
     "output_type": "execute_result"
    }
   ],
   "source": [
    "from sklearn.decomposition import PCA\n",
    "decomposer = PCA(n_components=10, random_state=0)\n",
    "decomposer.fit(X_dev_scaled)"
   ]
  },
  {
   "cell_type": "code",
   "execution_count": 49,
   "metadata": {
    "collapsed": true
   },
   "outputs": [],
   "source": [
    "X_dev_pca = decomposer.transform(X_dev_scaled)"
   ]
  },
  {
   "cell_type": "code",
   "execution_count": 49,
   "metadata": {
    "collapsed": true
   },
   "outputs": [],
   "source": [
    "X_dev_pca = decomposer.transform(X_dev_scaled)"
   ]
  },
  {
   "cell_type": "code",
   "execution_count": 51,
   "metadata": {},
   "outputs": [
    {
     "name": "stdout",
     "output_type": "stream",
     "text": [
      "(400, 10)\n"
     ]
    }
   ],
   "source": [
    "print (X_dev_pca.shape)"
   ]
  },
  {
   "cell_type": "code",
   "execution_count": 53,
   "metadata": {
    "collapsed": true
   },
   "outputs": [],
   "source": [
    "X_val_scaled = scaler.transform(X_val)\n",
    "X_val_pca = decomposer.transform(X_val_scaled)"
   ]
  },
  {
   "cell_type": "code",
   "execution_count": 59,
   "metadata": {
    "collapsed": true
   },
   "outputs": [],
   "source": [
    "from sklearn.linear_model import LogisticRegression\n",
    "\n",
    "classifiers = []\n",
    "for j in range(Y_dev.shape[1]):\n",
    "    y = Y_dev[:,j]\n",
    "    classifier = LogisticRegression(penalty = 'l2', C = 0.01)\n",
    "    classifier.fit(X_dev_pca,y)\n",
    "    classifiers.append(classifier)"
   ]
  },
  {
   "cell_type": "code",
   "execution_count": 61,
   "metadata": {
    "collapsed": true
   },
   "outputs": [],
   "source": [
    "Y_val_pred = np.zeros(Y_val.shape)\n",
    "for j in range(Y_dev.shape[1]):\n",
    "    classifier = classifiers[j]\n",
    "    y = classifier.predict_proba(X_val_pca)[:,1]\n",
    "    Y_val_pred[:,j] = y"
   ]
  },
  {
   "cell_type": "code",
   "execution_count": 62,
   "metadata": {},
   "outputs": [
    {
     "data": {
      "text/plain": [
       "(100, 9)"
      ]
     },
     "execution_count": 62,
     "metadata": {},
     "output_type": "execute_result"
    }
   ],
   "source": [
    "Y_val_pred.shape\n"
   ]
  },
  {
   "cell_type": "code",
   "execution_count": 63,
   "metadata": {},
   "outputs": [
    {
     "data": {
      "text/plain": [
       "0.81590230361126037"
      ]
     },
     "execution_count": 63,
     "metadata": {},
     "output_type": "execute_result"
    }
   ],
   "source": [
    "from sklearn.metrics import roc_auc_score\n",
    "roc_auc_score(Y_val,Y_val_pred,average='macro')"
   ]
  },
  {
   "cell_type": "code",
   "execution_count": 64,
   "metadata": {
    "collapsed": true
   },
   "outputs": [],
   "source": [
    "from sklearn.multiclass import OneVsRestClassifier\n",
    "\n",
    "classifier = OneVsRestClassifier(LogisticRegression(penalty='l2',C=0.01))\n",
    "classifier.fit(X_dev_pca,Y_dev)\n",
    "Y_val_pred = classifier.predict_proba(X_val_pca)"
   ]
  },
  {
   "cell_type": "code",
   "execution_count": 65,
   "metadata": {},
   "outputs": [
    {
     "data": {
      "text/plain": [
       "0.81590230361126037"
      ]
     },
     "execution_count": 65,
     "metadata": {},
     "output_type": "execute_result"
    }
   ],
   "source": [
    "roc_auc_score(Y_val,Y_val_pred,average='macro')"
   ]
  },
  {
   "cell_type": "code",
   "execution_count": 66,
   "metadata": {
    "collapsed": true
   },
   "outputs": [],
   "source": [
    "from sklearn.pipeline import Pipeline\n",
    "\n",
    "steps = [('scaler',StandardScaler()),('decomposer',PCA(10,random_state=0)),\n",
    "        ('classifier',OneVsRestClassifier(LogisticRegression(penalty='l2')))]\n",
    "pipeline = Pipeline(steps)\n"
   ]
  },
  {
   "cell_type": "code",
   "execution_count": 69,
   "metadata": {
    "collapsed": true
   },
   "outputs": [],
   "source": [
    "from sklearn.model_selection import GridSearchCV\n",
    "from sklearn.metrics import make_scorer\n",
    "\n",
    "params = {'classifier__estimator__C':[0.01,0.1,1.0,10.,100.]}\n",
    "scorer = make_scorer(roc_auc_score,average='macro',needs_proba=True)\n",
    "predictor = GridSearchCV(pipeline,params,cv=5, scoring=scorer)"
   ]
  },
  {
   "cell_type": "code",
   "execution_count": 70,
   "metadata": {},
   "outputs": [
    {
     "data": {
      "text/plain": [
       "GridSearchCV(cv=5, error_score='raise',\n",
       "       estimator=Pipeline(steps=[('scaler', StandardScaler(copy=True, with_mean=True, with_std=True)), ('decomposer', PCA(copy=True, iterated_power='auto', n_components=10, random_state=0,\n",
       "  svd_solver='auto', tol=0.0, whiten=False)), ('classifier', OneVsRestClassifier(estimator=LogisticRegression(C=1.0, class_weight=None, d...=None, solver='liblinear', tol=0.0001,\n",
       "          verbose=0, warm_start=False),\n",
       "          n_jobs=1))]),\n",
       "       fit_params={}, iid=True, n_jobs=1,\n",
       "       param_grid={'classifier__estimator__C': [0.01, 0.1, 1.0, 10.0, 100.0]},\n",
       "       pre_dispatch='2*n_jobs', refit=True, return_train_score=True,\n",
       "       scoring=make_scorer(roc_auc_score, needs_proba=True, average=macro),\n",
       "       verbose=0)"
      ]
     },
     "execution_count": 70,
     "metadata": {},
     "output_type": "execute_result"
    }
   ],
   "source": [
    "predictor.fit(X_dev,Y_dev)"
   ]
  },
  {
   "cell_type": "code",
   "execution_count": 71,
   "metadata": {},
   "outputs": [
    {
     "data": {
      "text/plain": [
       "{'classifier__estimator__C': 10.0}"
      ]
     },
     "execution_count": 71,
     "metadata": {},
     "output_type": "execute_result"
    }
   ],
   "source": [
    "predictor.best_params_"
   ]
  },
  {
   "cell_type": "code",
   "execution_count": 72,
   "metadata": {},
   "outputs": [
    {
     "data": {
      "text/plain": [
       "0.82581633343114969"
      ]
     },
     "execution_count": 72,
     "metadata": {},
     "output_type": "execute_result"
    }
   ],
   "source": [
    "Y_val_pred = predictor.predict_proba(X_val)\n",
    "roc_auc_score(Y_val,Y_val_pred,average='macro')"
   ]
  },
  {
   "cell_type": "code",
   "execution_count": 73,
   "metadata": {},
   "outputs": [
    {
     "data": {
      "text/plain": [
       "GridSearchCV(cv=5, error_score='raise',\n",
       "       estimator=Pipeline(steps=[('scaler', StandardScaler(copy=True, with_mean=True, with_std=True)), ('decomposer', PCA(copy=True, iterated_power='auto', n_components=10, random_state=0,\n",
       "  svd_solver='auto', tol=0.0, whiten=False)), ('classifier', OneVsRestClassifier(estimator=LogisticRegression(C=1.0, class_weight=None, d...=None, solver='liblinear', tol=0.0001,\n",
       "          verbose=0, warm_start=False),\n",
       "          n_jobs=1))]),\n",
       "       fit_params={}, iid=True, n_jobs=1,\n",
       "       param_grid={'classifier__estimator__C': [0.01, 0.1, 1.0, 10.0, 100.0]},\n",
       "       pre_dispatch='2*n_jobs', refit=True, return_train_score=True,\n",
       "       scoring=make_scorer(roc_auc_score, needs_proba=True, average=macro),\n",
       "       verbose=0)"
      ]
     },
     "execution_count": 73,
     "metadata": {},
     "output_type": "execute_result"
    }
   ],
   "source": [
    "param = {'classifier__estimator__C': [0.01,0.1,1.0,10.,100.],\n",
    "        'decomposer__n_components':[10,20,50]}\n",
    "\n",
    "predictor = GridSearchCV(pipeline, params,cv=5,scoring=scorer)\n",
    "predictor.fit(X_dev,Y_dev)"
   ]
  },
  {
   "cell_type": "code",
   "execution_count": 74,
   "metadata": {},
   "outputs": [
    {
     "data": {
      "text/plain": [
       "{'classifier__estimator__C': 10.0}"
      ]
     },
     "execution_count": 74,
     "metadata": {},
     "output_type": "execute_result"
    }
   ],
   "source": [
    "predictor.best_params_"
   ]
  },
  {
   "cell_type": "code",
   "execution_count": 75,
   "metadata": {},
   "outputs": [
    {
     "data": {
      "text/plain": [
       "0.82581633343114969"
      ]
     },
     "execution_count": 75,
     "metadata": {},
     "output_type": "execute_result"
    }
   ],
   "source": [
    "Y_val_pred = predictor.predict_proba(X_val)\n",
    "roc_auc_score(Y_val,Y_val_pred,average='macro')"
   ]
  },
  {
   "cell_type": "code",
   "execution_count": 76,
   "metadata": {},
   "outputs": [
    {
     "data": {
      "text/plain": [
       "Pipeline(steps=[('scaler', StandardScaler(copy=True, with_mean=True, with_std=True)), ('decomposer', PCA(copy=True, iterated_power='auto', n_components=10, random_state=0,\n",
       "  svd_solver='auto', tol=0.0, whiten=False)), ('classifier', OneVsRestClassifier(estimator=LogisticRegression(C=10.0, class_weight=None, ...=None, solver='liblinear', tol=0.0001,\n",
       "          verbose=0, warm_start=False),\n",
       "          n_jobs=1))])"
      ]
     },
     "execution_count": 76,
     "metadata": {},
     "output_type": "execute_result"
    }
   ],
   "source": [
    "final_predictor = predictor.best_estimator_\n",
    "final_predictor.fit(X_train,Y_train)"
   ]
  },
  {
   "cell_type": "code",
   "execution_count": 77,
   "metadata": {
    "collapsed": true
   },
   "outputs": [],
   "source": [
    "Y_test_pred = final_predictor.predict_proba(X_test)\n",
    "np.savetxt('submission.dat',Y_test_pred,fmt='%.6f')"
   ]
  },
  {
   "cell_type": "code",
   "execution_count": null,
   "metadata": {
    "collapsed": true
   },
   "outputs": [],
   "source": []
  }
 ],
 "metadata": {
  "kernelspec": {
   "display_name": "Python 3",
   "language": "python",
   "name": "python3"
  },
  "language_info": {
   "codemirror_mode": {
    "name": "ipython",
    "version": 3
   },
   "file_extension": ".py",
   "mimetype": "text/x-python",
   "name": "python",
   "nbconvert_exporter": "python",
   "pygments_lexer": "ipython3",
   "version": "3.6.0"
  }
 },
 "nbformat": 4,
 "nbformat_minor": 2
}
